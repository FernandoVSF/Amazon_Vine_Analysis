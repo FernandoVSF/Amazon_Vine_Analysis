{
 "cells": [
  {
   "cell_type": "code",
   "execution_count": 1,
   "metadata": {
    "colab": {
     "base_uri": "https://localhost:8080/"
    },
    "id": "V58rxea0HqSa",
    "outputId": "66d87a0b-3fa7-4247-cd85-5178cf7ddb0c"
   },
   "outputs": [
    {
     "name": "stdout",
     "output_type": "stream",
     "text": [
      "\r",
      "0% [Working]\r",
      "            \r",
      "Get:1 http://ppa.launchpad.net/c2d4u.team/c2d4u4.0+/ubuntu bionic InRelease [15.9 kB]\n",
      "\r",
      "0% [Waiting for headers] [Waiting for headers] [Connected to cloud.r-project.or\r",
      "                                                                               \r",
      "Get:2 http://security.ubuntu.com/ubuntu bionic-security InRelease [88.7 kB]\n",
      "\r",
      "0% [Waiting for headers] [2 InRelease 14.2 kB/88.7 kB 16%] [Connected to cloud.\r",
      "                                                                               \r",
      "Hit:3 http://archive.ubuntu.com/ubuntu bionic InRelease\n",
      "\r",
      "0% [2 InRelease 88.7 kB/88.7 kB 100%] [Connected to cloud.r-project.org (143.20\r",
      "                                                                               \r",
      "Get:4 http://archive.ubuntu.com/ubuntu bionic-updates InRelease [88.7 kB]\n",
      "\r",
      "                                                                               \r",
      "Hit:5 http://ppa.launchpad.net/cran/libgit2/ubuntu bionic InRelease\n",
      "\r",
      "0% [4 InRelease 82.2 kB/88.7 kB 93%] [Waiting for headers] [Waiting for headers\r",
      "0% [3 InRelease gpgv 242 kB] [4 InRelease 82.2 kB/88.7 kB 93%] [Waiting for hea\r",
      "0% [3 InRelease gpgv 242 kB] [Waiting for headers] [Waiting for headers] [Waiti\r",
      "                                                                               \r",
      "Get:6 https://cloud.r-project.org/bin/linux/ubuntu bionic-cran40/ InRelease [3,626 B]\n",
      "\r",
      "0% [3 InRelease gpgv 242 kB] [Waiting for headers] [Waiting for headers] [Waiti\r",
      "                                                                               \r",
      "Hit:7 http://ppa.launchpad.net/graphics-drivers/ppa/ubuntu bionic InRelease\n",
      "Get:8 http://archive.ubuntu.com/ubuntu bionic-backports InRelease [74.6 kB]\n",
      "Ign:9 https://developer.download.nvidia.com/compute/cuda/repos/ubuntu1804/x86_64  InRelease\n",
      "Ign:10 https://developer.download.nvidia.com/compute/machine-learning/repos/ubuntu1804/x86_64  InRelease\n",
      "Hit:11 https://developer.download.nvidia.com/compute/cuda/repos/ubuntu1804/x86_64  Release\n",
      "Hit:12 https://developer.download.nvidia.com/compute/machine-learning/repos/ubuntu1804/x86_64  Release\n",
      "Get:13 http://security.ubuntu.com/ubuntu bionic-security/universe amd64 Packages [1,391 kB]\n",
      "Get:14 http://security.ubuntu.com/ubuntu bionic-security/main amd64 Packages [1,929 kB]\n",
      "Get:15 http://ppa.launchpad.net/c2d4u.team/c2d4u4.0+/ubuntu bionic/main Sources [1,733 kB]\n",
      "Get:16 http://ppa.launchpad.net/c2d4u.team/c2d4u4.0+/ubuntu bionic/main amd64 Packages [887 kB]\n",
      "Get:17 http://archive.ubuntu.com/ubuntu bionic-updates/universe amd64 Packages [2,162 kB]\n",
      "Get:18 http://archive.ubuntu.com/ubuntu bionic-updates/main amd64 Packages [2,360 kB]\n",
      "Fetched 10.7 MB in 2s (4,403 kB/s)\n",
      "Reading package lists... Done\n"
     ]
    }
   ],
   "source": [
    "import os\n",
    "# Find the latest version of spark 2.0  from http://www-us.apache.org/dist/spark/ and enter as the spark version\n",
    "# For example:\n",
    "# spark_version = 'spark-3.0.0'\n",
    "spark_version = 'spark-3.0.2'\n",
    "os.environ['SPARK_VERSION']=spark_version\n",
    "\n",
    "# Install Spark and Java\n",
    "!apt-get update\n",
    "!apt-get install openjdk-11-jdk-headless -qq > /dev/null\n",
    "!wget -q http://www-us.apache.org/dist/spark/$SPARK_VERSION/$SPARK_VERSION-bin-hadoop2.7.tgz\n",
    "!tar xf $SPARK_VERSION-bin-hadoop2.7.tgz\n",
    "!pip install -q findspark\n",
    "\n",
    "# Set Environment Variables\n",
    "import os\n",
    "os.environ[\"JAVA_HOME\"] = \"/usr/lib/jvm/java-11-openjdk-amd64\"\n",
    "os.environ[\"SPARK_HOME\"] = f\"/content/{spark_version}-bin-hadoop2.7\"\n",
    "\n",
    "# Start a SparkSession\n",
    "import findspark\n",
    "findspark.init()"
   ]
  },
  {
   "cell_type": "code",
   "execution_count": 2,
   "metadata": {
    "colab": {
     "base_uri": "https://localhost:8080/"
    },
    "id": "_xKwTpATHqSe",
    "outputId": "ff9a034c-8d1f-4886-d875-a5177ee345f0"
   },
   "outputs": [
    {
     "name": "stdout",
     "output_type": "stream",
     "text": [
      "--2021-02-21 21:50:10--  https://jdbc.postgresql.org/download/postgresql-42.2.16.jar\n",
      "Resolving jdbc.postgresql.org (jdbc.postgresql.org)... 72.32.157.228, 2001:4800:3e1:1::228\n",
      "Connecting to jdbc.postgresql.org (jdbc.postgresql.org)|72.32.157.228|:443... connected.\n",
      "HTTP request sent, awaiting response... 200 OK\n",
      "Length: 1002883 (979K) [application/java-archive]\n",
      "Saving to: ‘postgresql-42.2.16.jar’\n",
      "\n",
      "postgresql-42.2.16. 100%[===================>] 979.38K  1.66MB/s    in 0.6s    \n",
      "\n",
      "2021-02-21 21:50:11 (1.66 MB/s) - ‘postgresql-42.2.16.jar’ saved [1002883/1002883]\n",
      "\n"
     ]
    }
   ],
   "source": [
    "# Download the Postgres driver that will allow Spark to interact with Postgres.\n",
    "!wget https://jdbc.postgresql.org/download/postgresql-42.2.16.jar"
   ]
  },
  {
   "cell_type": "code",
   "execution_count": 3,
   "metadata": {
    "id": "MMqDAjVS0KN9"
   },
   "outputs": [],
   "source": [
    "from pyspark.sql import SparkSession\n",
    "spark = SparkSession.builder.appName(\"BigData-Challenge\").config(\"spark.driver.extraClassPath\",\"/content/postgresql-42.2.16.jar\").getOrCreate()"
   ]
  },
  {
   "cell_type": "markdown",
   "metadata": {
    "id": "cyBsySGuY-9V"
   },
   "source": [
    "### Load Amazon Data into Spark DataFrame"
   ]
  },
  {
   "cell_type": "code",
   "execution_count": 4,
   "metadata": {
    "colab": {
     "base_uri": "https://localhost:8080/"
    },
    "id": "CtCmBhQJY-9Z",
    "outputId": "61df3576-7d7e-45d1-c4cb-acff0bfa3d3a"
   },
   "outputs": [
    {
     "name": "stdout",
     "output_type": "stream",
     "text": [
      "+-----------+-----------+--------------+----------+--------------+--------------------+----------------+-----------+-------------+-----------+----+-----------------+--------------------+--------------------+-----------+\n",
      "|marketplace|customer_id|     review_id|product_id|product_parent|       product_title|product_category|star_rating|helpful_votes|total_votes|vine|verified_purchase|     review_headline|         review_body|review_date|\n",
      "+-----------+-----------+--------------+----------+--------------+--------------------+----------------+-----------+-------------+-----------+----+-----------------+--------------------+--------------------+-----------+\n",
      "|         US|   12039526| RTIS3L2M1F5SM|B001CXYMFS|     737716809|Thrustmaster T-Fl...|     Video Games|          5|            0|          0|   N|                Y|an amazing joysti...|Used this for Eli...| 2015-08-31|\n",
      "|         US|    9636577| R1ZV7R40OLHKD|B00M920ND6|     569686175|Tonsee 6 buttons ...|     Video Games|          5|            0|          0|   N|                Y|Definitely a sile...|Loved it,  I didn...| 2015-08-31|\n",
      "|         US|    2331478|R3BH071QLH8QMC|B0029CSOD2|      98937668|Hidden Mysteries:...|     Video Games|          1|            0|          1|   N|                Y|            One Star|poor quality work...| 2015-08-31|\n",
      "|         US|   52495923|R127K9NTSXA2YH|B00GOOSV98|      23143350|GelTabz Performan...|     Video Games|          3|            0|          0|   N|                Y|good, but could b...|nice, but tend to...| 2015-08-31|\n",
      "|         US|   14533949|R32ZWUXDJPW27Q|B00Y074JOM|     821342511|Zero Suit Samus a...|     Video Games|          4|            0|          0|   N|                Y|   Great but flawed.|Great amiibo, gre...| 2015-08-31|\n",
      "|         US|    2377552|R3AQQ4YUKJWBA6|B002UBI6W6|     328764615|Psyclone Recharge...|     Video Games|          1|            0|          0|   N|                Y|            One Star|The remote consta...| 2015-08-31|\n",
      "|         US|   17521011|R2F0POU5K6F73F|B008XHCLFO|      24234603|Protection for yo...|     Video Games|          5|            0|          0|   N|                Y|              A Must|I have a 2012-201...| 2015-08-31|\n",
      "|         US|   19676307|R3VNR804HYSMR6|B00BRA9R6A|     682267517|   Nerf 3DS XL Armor|     Video Games|          5|            0|          0|   N|                Y|          Five Stars|Perfect, kids lov...| 2015-08-31|\n",
      "|         US|     224068| R3GZTM72WA2QH|B009EPWJLA|     435241890|One Piece: Pirate...|     Video Games|          5|            0|          0|   N|                Y|          Five Stars|            Excelent| 2015-08-31|\n",
      "|         US|   48467989| RNQOY62705W1K|B0000AV7GB|     256572651|Playstation 2 Dan...|     Video Games|          4|            0|          0|   N|                Y|          Four Stars|Slippery but expe...| 2015-08-31|\n",
      "|         US|     106569|R1VTIA3JTYBY02|B00008KTNN|     384411423|Metal Arms: Glitc...|     Video Games|          5|            0|          0|   N|                N|          Five Stars|Love the game. Se...| 2015-08-31|\n",
      "|         US|   48269642|R29DOU8791QZL8|B000A3IA0Y|     472622859|72 Pin Connector ...|     Video Games|          1|            0|          0|   N|                Y| Game will get stuck|Does not fit prop...| 2015-08-31|\n",
      "|         US|   52738710|R15DUT1VIJ9RJZ|B0053BQN34|     577628462|uDraw Gametablet ...|     Video Games|          2|            0|          0|   N|                Y|We have tried it ...|This was way too ...| 2015-08-31|\n",
      "|         US|   10556786|R3IMF2MQ3OU9ZM|B002I0HIMI|     988218515|NBA 2K12(Covers M...|     Video Games|          4|            0|          0|   N|                Y|          Four Stars|Works great good ...| 2015-08-31|\n",
      "|         US|    2963837|R23H79DHOZTYAU|B0081EH12M|     770100932|New Trigger Grips...|     Video Games|          1|            1|          1|   N|                Y|Now i have to buy...|It did not fit th...| 2015-08-31|\n",
      "|         US|   23092109| RIV24EQAIXA4O|B005FMLZQQ|      24647669|Xbox 360 Media Re...|     Video Games|          5|            0|          0|   N|                Y|          Five Stars|perfect lightweig...| 2015-08-31|\n",
      "|         US|   23091728|R3UCNGYDVN24YB|B002BSA388|      33706205|Super Mario Galaxy 2|     Video Games|          5|            0|          0|   N|                Y|          Five Stars|               great| 2015-08-31|\n",
      "|         US|   10712640| RUL4H4XTTN2DY|B00BUSLSAC|     829667834|Nintendo 3DS XL -...|     Video Games|          5|            0|          0|   N|                Y|          Five Stars|Works beautifully...| 2015-08-31|\n",
      "|         US|   17455376|R20JF7Z4DHTNX5|B00KWF38AW|     110680188|Captain Toad:  Tr...|     Video Games|          5|            0|          0|   N|                Y|          Five Stars|Kids loved the ga...| 2015-08-31|\n",
      "|         US|   14754850|R2T1AJ5MFI2260|B00BRQJYA8|     616463426|Lego Batman 2: DC...|     Video Games|          4|            0|          0|   N|                Y|          Four Stars|           Goodngame| 2015-08-31|\n",
      "+-----------+-----------+--------------+----------+--------------+--------------------+----------------+-----------+-------------+-----------+----+-----------------+--------------------+--------------------+-----------+\n",
      "only showing top 20 rows\n",
      "\n"
     ]
    }
   ],
   "source": [
    "from pyspark import SparkFiles\n",
    "url = \"https://s3.amazonaws.com/amazon-reviews-pds/tsv/amazon_reviews_us_Video_Games_v1_00.tsv.gz\"\n",
    "spark.sparkContext.addFile(url)\n",
    "df = spark.read.option(\"encoding\", \"UTF-8\").csv(SparkFiles.get(\"amazon_reviews_us_Video_Games_v1_00.tsv.gz\"), sep=\"\\t\", header=True, inferSchema=True)\n",
    "df.show()"
   ]
  },
  {
   "cell_type": "markdown",
   "metadata": {
    "id": "2yUSe55VY-9t"
   },
   "source": [
    "### Create DataFrames to match tables"
   ]
  },
  {
   "cell_type": "code",
   "execution_count": 5,
   "metadata": {
    "id": "lzMmkdKmY--D"
   },
   "outputs": [],
   "source": [
    "# Create the vine_table. DataFrame\n",
    "vine_df = df.select(['review_id', 'star_rating', 'helpful_votes', 'total_votes', 'vine', 'verified_purchase'])"
   ]
  },
  {
   "cell_type": "code",
   "execution_count": 6,
   "metadata": {
    "colab": {
     "base_uri": "https://localhost:8080/"
    },
    "id": "vxC5VWpCmW-M",
    "outputId": "8dd85768-1af7-42c5-d84e-f7ba391dc101"
   },
   "outputs": [
    {
     "name": "stdout",
     "output_type": "stream",
     "text": [
      "+--------------+-----------+-------------+-----------+----+-----------------+\n",
      "|     review_id|star_rating|helpful_votes|total_votes|vine|verified_purchase|\n",
      "+--------------+-----------+-------------+-----------+----+-----------------+\n",
      "| RTIS3L2M1F5SM|          5|            0|          0|   N|                Y|\n",
      "| R1ZV7R40OLHKD|          5|            0|          0|   N|                Y|\n",
      "|R3BH071QLH8QMC|          1|            0|          1|   N|                Y|\n",
      "|R127K9NTSXA2YH|          3|            0|          0|   N|                Y|\n",
      "|R32ZWUXDJPW27Q|          4|            0|          0|   N|                Y|\n",
      "|R3AQQ4YUKJWBA6|          1|            0|          0|   N|                Y|\n",
      "|R2F0POU5K6F73F|          5|            0|          0|   N|                Y|\n",
      "|R3VNR804HYSMR6|          5|            0|          0|   N|                Y|\n",
      "| R3GZTM72WA2QH|          5|            0|          0|   N|                Y|\n",
      "| RNQOY62705W1K|          4|            0|          0|   N|                Y|\n",
      "|R1VTIA3JTYBY02|          5|            0|          0|   N|                N|\n",
      "|R29DOU8791QZL8|          1|            0|          0|   N|                Y|\n",
      "|R15DUT1VIJ9RJZ|          2|            0|          0|   N|                Y|\n",
      "|R3IMF2MQ3OU9ZM|          4|            0|          0|   N|                Y|\n",
      "|R23H79DHOZTYAU|          1|            1|          1|   N|                Y|\n",
      "| RIV24EQAIXA4O|          5|            0|          0|   N|                Y|\n",
      "|R3UCNGYDVN24YB|          5|            0|          0|   N|                Y|\n",
      "| RUL4H4XTTN2DY|          5|            0|          0|   N|                Y|\n",
      "|R20JF7Z4DHTNX5|          5|            0|          0|   N|                Y|\n",
      "|R2T1AJ5MFI2260|          4|            0|          0|   N|                Y|\n",
      "+--------------+-----------+-------------+-----------+----+-----------------+\n",
      "only showing top 20 rows\n",
      "\n"
     ]
    }
   ],
   "source": [
    "vine_df.show()"
   ]
  },
  {
   "cell_type": "code",
   "execution_count": 7,
   "metadata": {
    "colab": {
     "base_uri": "https://localhost:8080/"
    },
    "id": "v9LUsCZjozbG",
    "outputId": "22bd0897-7fc4-4b63-c1ad-fe2096dd10a1"
   },
   "outputs": [
    {
     "name": "stdout",
     "output_type": "stream",
     "text": [
      "+--------------+-----------+-------------+-----------+----+-----------------+\n",
      "|     review_id|star_rating|helpful_votes|total_votes|vine|verified_purchase|\n",
      "+--------------+-----------+-------------+-----------+----+-----------------+\n",
      "| R4PKAZRQJJX14|          1|           21|         34|   N|                N|\n",
      "|R2CI0Y288CC7E2|          1|           21|         35|   N|                Y|\n",
      "|R127WEQY2FM1T3|          1|          147|        175|   N|                Y|\n",
      "|R3EZ0EPYLDA34S|          1|           14|         31|   N|                Y|\n",
      "|R2FJ94555FZH32|          2|           55|         60|   N|                N|\n",
      "|R1U3AR67RE273L|          1|           51|         65|   N|                Y|\n",
      "|R3PZOXA5X1U8KW|          4|           31|         36|   N|                N|\n",
      "| R6KTC1OPIOIIG|          2|           19|         34|   N|                Y|\n",
      "|R36O341WWXXKNP|          5|           28|         31|   N|                N|\n",
      "|R3GSK9MM8DNOYI|          1|            4|         32|   N|                N|\n",
      "|R10LZVBLQHBVJ0|          2|          151|        198|   N|                N|\n",
      "|R1VR5GLGY1GE7N|          1|           49|         51|   N|                Y|\n",
      "|R3GUUC6NT4QMCL|          1|            5|         36|   N|                N|\n",
      "|R1ZSD020RT18I5|          1|            7|        139|   N|                N|\n",
      "|R113X48B575ASY|          1|           15|         45|   N|                N|\n",
      "| RJLYLGRYH7SFQ|          1|           34|        116|   N|                N|\n",
      "|R2OWDAR0EDEPTF|          1|           23|         28|   N|                N|\n",
      "|R3CICXKAHN6NUD|          1|            0|         23|   N|                Y|\n",
      "|R29BOS5HMAY1LO|          5|           88|        110|   N|                N|\n",
      "| R8WD0136CETA7|          2|           99|        119|   N|                N|\n",
      "+--------------+-----------+-------------+-----------+----+-----------------+\n",
      "only showing top 20 rows\n",
      "\n"
     ]
    }
   ],
   "source": [
    "top_voters_df = vine_df.filter('total_votes>= 20')\n",
    "top_voters_df.show()"
   ]
  },
  {
   "cell_type": "code",
   "execution_count": 8,
   "metadata": {
    "colab": {
     "base_uri": "https://localhost:8080/"
    },
    "id": "ltIGpwKUp28P",
    "outputId": "c4b17220-b28f-4226-9f80-8267972b242a"
   },
   "outputs": [
    {
     "name": "stdout",
     "output_type": "stream",
     "text": [
      "+--------------+-----------+-------------+-----------+----+-----------------+\n",
      "|     review_id|star_rating|helpful_votes|total_votes|vine|verified_purchase|\n",
      "+--------------+-----------+-------------+-----------+----+-----------------+\n",
      "| R4PKAZRQJJX14|          1|           21|         34|   N|                N|\n",
      "|R2CI0Y288CC7E2|          1|           21|         35|   N|                Y|\n",
      "|R127WEQY2FM1T3|          1|          147|        175|   N|                Y|\n",
      "|R3EZ0EPYLDA34S|          1|           14|         31|   N|                Y|\n",
      "|R2FJ94555FZH32|          2|           55|         60|   N|                N|\n",
      "|R1U3AR67RE273L|          1|           51|         65|   N|                Y|\n",
      "|R3PZOXA5X1U8KW|          4|           31|         36|   N|                N|\n",
      "| R6KTC1OPIOIIG|          2|           19|         34|   N|                Y|\n",
      "|R36O341WWXXKNP|          5|           28|         31|   N|                N|\n",
      "|R3GSK9MM8DNOYI|          1|            4|         32|   N|                N|\n",
      "|R10LZVBLQHBVJ0|          2|          151|        198|   N|                N|\n",
      "|R1VR5GLGY1GE7N|          1|           49|         51|   N|                Y|\n",
      "|R3GUUC6NT4QMCL|          1|            5|         36|   N|                N|\n",
      "|R1ZSD020RT18I5|          1|            7|        139|   N|                N|\n",
      "|R113X48B575ASY|          1|           15|         45|   N|                N|\n",
      "| RJLYLGRYH7SFQ|          1|           34|        116|   N|                N|\n",
      "|R2OWDAR0EDEPTF|          1|           23|         28|   N|                N|\n",
      "|R29BOS5HMAY1LO|          5|           88|        110|   N|                N|\n",
      "| R8WD0136CETA7|          2|           99|        119|   N|                N|\n",
      "|R1T6U2ZTAVYG9T|          1|            6|         44|   N|                N|\n",
      "+--------------+-----------+-------------+-----------+----+-----------------+\n",
      "only showing top 20 rows\n",
      "\n"
     ]
    }
   ],
   "source": [
    "helpful_voters_df = top_voters_df.filter('helpful_votes/helpful_votes >= 0.5')\n",
    "helpful_voters_df.show()"
   ]
  },
  {
   "cell_type": "code",
   "execution_count": 9,
   "metadata": {
    "colab": {
     "base_uri": "https://localhost:8080/"
    },
    "id": "eIC-qJgkq7W9",
    "outputId": "9b167c5d-c419-4cf5-b9f3-73a8676094ad"
   },
   "outputs": [
    {
     "name": "stdout",
     "output_type": "stream",
     "text": [
      "+--------------+-----------+-------------+-----------+----+-----------------+\n",
      "|     review_id|star_rating|helpful_votes|total_votes|vine|verified_purchase|\n",
      "+--------------+-----------+-------------+-----------+----+-----------------+\n",
      "|R3KKUSGFZWSUIY|          5|           56|         63|   Y|                N|\n",
      "|R10FO5UKKVZBK2|          3|           23|         23|   Y|                N|\n",
      "| RM4KSGEOR7MU1|          5|           19|         24|   Y|                N|\n",
      "|R18YQ4NRL2373C|          3|            2|         28|   Y|                N|\n",
      "| RG7VRMYLEXD23|          4|           22|         26|   Y|                N|\n",
      "|R11O4YSCPSNL6L|          3|           20|         26|   Y|                N|\n",
      "|R286MFBAJ8NPD6|          5|           46|         51|   Y|                N|\n",
      "|R1JRR530H4COA2|          5|           22|         28|   Y|                N|\n",
      "| RQ5WD90PUNBU9|          5|           21|         24|   Y|                N|\n",
      "|R12648VHCQWUV9|          4|           21|         28|   Y|                N|\n",
      "|R3KAW29CJ8L6DQ|          5|           17|         20|   Y|                N|\n",
      "|R1OWK33OPI45KT|          5|           55|         58|   Y|                N|\n",
      "|R2UP7VTED8O425|          5|           35|         41|   Y|                N|\n",
      "|R3N4QAXTQCA1ED|          5|           18|         20|   Y|                N|\n",
      "|R3EPHK0JGQGE91|          5|           21|         28|   Y|                N|\n",
      "| RCP3KRO47S0GG|          4|           51|         58|   Y|                N|\n",
      "|R3JT907UUA1WUI|          4|           85|        103|   Y|                N|\n",
      "| RY0555ILXIYXW|          5|           38|         50|   Y|                N|\n",
      "|R24PS9N276OXF4|          5|          241|        262|   Y|                N|\n",
      "|R3R0F8ETAGTIOT|          5|           14|         20|   Y|                N|\n",
      "+--------------+-----------+-------------+-----------+----+-----------------+\n",
      "only showing top 20 rows\n",
      "\n"
     ]
    }
   ],
   "source": [
    "paid_df = helpful_voters_df.filter(\"vine == 'Y'\")\n",
    "paid_df.show()"
   ]
  },
  {
   "cell_type": "code",
   "execution_count": 10,
   "metadata": {
    "colab": {
     "base_uri": "https://localhost:8080/"
    },
    "id": "v6b-8y_2rob2",
    "outputId": "87377796-173d-40b4-d892-96510436ddb2"
   },
   "outputs": [
    {
     "name": "stdout",
     "output_type": "stream",
     "text": [
      "+--------------+-----------+-------------+-----------+----+-----------------+\n",
      "|     review_id|star_rating|helpful_votes|total_votes|vine|verified_purchase|\n",
      "+--------------+-----------+-------------+-----------+----+-----------------+\n",
      "| R4PKAZRQJJX14|          1|           21|         34|   N|                N|\n",
      "|R2CI0Y288CC7E2|          1|           21|         35|   N|                Y|\n",
      "|R127WEQY2FM1T3|          1|          147|        175|   N|                Y|\n",
      "|R3EZ0EPYLDA34S|          1|           14|         31|   N|                Y|\n",
      "|R2FJ94555FZH32|          2|           55|         60|   N|                N|\n",
      "|R1U3AR67RE273L|          1|           51|         65|   N|                Y|\n",
      "|R3PZOXA5X1U8KW|          4|           31|         36|   N|                N|\n",
      "| R6KTC1OPIOIIG|          2|           19|         34|   N|                Y|\n",
      "|R36O341WWXXKNP|          5|           28|         31|   N|                N|\n",
      "|R3GSK9MM8DNOYI|          1|            4|         32|   N|                N|\n",
      "|R10LZVBLQHBVJ0|          2|          151|        198|   N|                N|\n",
      "|R1VR5GLGY1GE7N|          1|           49|         51|   N|                Y|\n",
      "|R3GUUC6NT4QMCL|          1|            5|         36|   N|                N|\n",
      "|R1ZSD020RT18I5|          1|            7|        139|   N|                N|\n",
      "|R113X48B575ASY|          1|           15|         45|   N|                N|\n",
      "| RJLYLGRYH7SFQ|          1|           34|        116|   N|                N|\n",
      "|R2OWDAR0EDEPTF|          1|           23|         28|   N|                N|\n",
      "|R29BOS5HMAY1LO|          5|           88|        110|   N|                N|\n",
      "| R8WD0136CETA7|          2|           99|        119|   N|                N|\n",
      "|R1T6U2ZTAVYG9T|          1|            6|         44|   N|                N|\n",
      "+--------------+-----------+-------------+-----------+----+-----------------+\n",
      "only showing top 20 rows\n",
      "\n"
     ]
    }
   ],
   "source": [
    "unpaid_df = helpful_voters_df.filter(\"vine == 'N'\")\n",
    "unpaid_df.show()"
   ]
  },
  {
   "cell_type": "code",
   "execution_count": 12,
   "metadata": {
    "colab": {
     "base_uri": "https://localhost:8080/"
    },
    "id": "YmwMcnJSsPV2",
    "outputId": "6d039df7-1ecb-47a0-8393-77e8b1cf43d1"
   },
   "outputs": [
    {
     "data": {
      "text/plain": [
       "102"
      ]
     },
     "execution_count": 12,
     "metadata": {
      "tags": []
     },
     "output_type": "execute_result"
    }
   ],
   "source": [
    "total_paid = paid_df.count()\n",
    "total_paid"
   ]
  },
  {
   "cell_type": "code",
   "execution_count": 13,
   "metadata": {
    "colab": {
     "base_uri": "https://localhost:8080/"
    },
    "id": "JLmwy49ktGKI",
    "outputId": "732c5bc9-a7fc-4c33-9ec8-48bb384d0daf"
   },
   "outputs": [
    {
     "data": {
      "text/plain": [
       "48"
      ]
     },
     "execution_count": 13,
     "metadata": {
      "tags": []
     },
     "output_type": "execute_result"
    }
   ],
   "source": [
    "paid_5s = paid_df.filter('star_rating == 5').count()\n",
    "paid_5s"
   ]
  },
  {
   "cell_type": "code",
   "execution_count": 15,
   "metadata": {
    "colab": {
     "base_uri": "https://localhost:8080/"
    },
    "id": "jElB3fZgt1lM",
    "outputId": "491f12ff-8c72-443e-a87b-ae0185baa826"
   },
   "outputs": [
    {
     "data": {
      "text/plain": [
       "0.47058823529411764"
      ]
     },
     "execution_count": 15,
     "metadata": {
      "tags": []
     },
     "output_type": "execute_result"
    }
   ],
   "source": [
    "paid_ratio = paid_5s/total_paid\n",
    "paid_ratio"
   ]
  },
  {
   "cell_type": "code",
   "execution_count": 17,
   "metadata": {
    "colab": {
     "base_uri": "https://localhost:8080/"
    },
    "id": "eiZG7ITauZqe",
    "outputId": "e309833a-a9df-4b72-b8e5-2af491e8367f"
   },
   "outputs": [
    {
     "data": {
      "text/plain": [
       "64008"
      ]
     },
     "execution_count": 17,
     "metadata": {
      "tags": []
     },
     "output_type": "execute_result"
    }
   ],
   "source": [
    "total_unpaid = unpaid_df.count()\n",
    "total_unpaid"
   ]
  },
  {
   "cell_type": "code",
   "execution_count": 18,
   "metadata": {
    "colab": {
     "base_uri": "https://localhost:8080/"
    },
    "id": "PcQpXzyBvFjo",
    "outputId": "fdaba6c8-2c61-481b-b8b8-6557c32c1980"
   },
   "outputs": [
    {
     "data": {
      "text/plain": [
       "20282"
      ]
     },
     "execution_count": 18,
     "metadata": {
      "tags": []
     },
     "output_type": "execute_result"
    }
   ],
   "source": [
    "unpaid_5s = unpaid_df.filter('star_rating == 5').count()\n",
    "unpaid_5s"
   ]
  },
  {
   "cell_type": "code",
   "execution_count": 19,
   "metadata": {
    "colab": {
     "base_uri": "https://localhost:8080/"
    },
    "id": "XW6jmUBhvT9a",
    "outputId": "a62c5bef-4e2d-47d8-ac79-b1d05716e9c9"
   },
   "outputs": [
    {
     "data": {
      "text/plain": [
       "0.3168666416697913"
      ]
     },
     "execution_count": 19,
     "metadata": {
      "tags": []
     },
     "output_type": "execute_result"
    }
   ],
   "source": [
    "unpaid_ratio = unpaid_5s/total_unpaid\n",
    "unpaid_ratio"
   ]
  }
 ],
 "metadata": {
  "colab": {
   "collapsed_sections": [],
   "name": "Vine_Review_Analysis.ipynb",
   "provenance": []
  },
  "kernelspec": {
   "display_name": "Python 3",
   "language": "python",
   "name": "python3"
  },
  "language_info": {
   "codemirror_mode": {
    "name": "ipython",
    "version": 3
   },
   "file_extension": ".py",
   "mimetype": "text/x-python",
   "name": "python",
   "nbconvert_exporter": "python",
   "pygments_lexer": "ipython3",
   "version": "3.7.7"
  }
 },
 "nbformat": 4,
 "nbformat_minor": 1
}
